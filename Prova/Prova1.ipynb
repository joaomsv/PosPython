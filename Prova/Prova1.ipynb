{
 "cells": [
  {
   "cell_type": "markdown",
   "metadata": {},
   "source": [
    "Com base no censo demografico de 2022 (https://www.ibge.gov.br/estatisticas/sociais/populacao/22827-censo-demografico-2022.html?edicao=38166&t=resultadosLinks to an external site.), baixe o arquivo  População por idade e sexo referente a seu estado de nascimento e faça:\n",
    "\n",
    "a) Faça um programa em python que identifique qual a faixa etaria possui mais pessoas entre homens e mulheres.\n",
    "\n",
    "   -  Gerar dois arquivos com formato xlxs, .json \n",
    "\n",
    "b) Faça um programa python que com base na sua faixa etária e sexo identifique o municipio com mais pessoas.\n",
    "\n",
    "   -  Gerar dois arquivos com formato xlxs, .json \n",
    "\n",
    "c) Faça um programa python que com base na sua faixa etária e sexo identifique o municipio com menos pessoas.\n",
    "\n",
    "   - Gerar dois arquivos com formato xlxs, .json \n",
    "\n",
    "ex: nelson_junior.xlxs, nelson_junior.json\n",
    "\n",
    "ob. Os arquivos de SP, RJ e MG estão em arquivos, e postar o codigo fonte."
   ]
  },
  {
   "cell_type": "code",
   "execution_count": 179,
   "metadata": {},
   "outputs": [],
   "source": [
    "import pandas as pd\n",
    "\n",
    "excel = pd.read_excel('tabela9514_UF_MUN_MG.xlsx')\n",
    "excel = excel[4:-1]\n",
    "excel.iloc[0, 0] = 'Cidade'"
   ]
  },
  {
   "cell_type": "code",
   "execution_count": null,
   "metadata": {},
   "outputs": [],
   "source": [
    "homens = excel.iloc[:, 24:46]\n",
    "homens.iloc[:, 0] = excel.iloc[:, 0]\n",
    "homens.columns = homens.iloc[0]\n",
    "homens = homens.drop([4])\n",
    "homem_max = homens.iloc[0, 1:].idxmax()\n",
    "print(f'Max faixa etaria dos homens em Minas: {homem_max}')\n",
    "\n",
    "mulhers = excel.iloc[:, 47:]\n",
    "mulhers.iloc[:, 0] = excel.iloc[:, 0]\n",
    "mulhers.columns = mulhers.iloc[0]\n",
    "mulhers = mulhers.drop([4])\n",
    "mulher_max = mulhers.iloc[0, 1:].idxmax()\n",
    "print(f'Max faixa etaria dos mulhers em Minas: {mulher_max}')\n",
    "\n",
    "max_idade = pd.DataFrame({'Homem': [homem_max], 'Mulher': [mulher_max]}, index= ['Faixa Etaria'])\n",
    "\n",
    "max_idade.to_excel('IdadeMax.xlsx')\n",
    "max_idade.to_json('IdadeMax.json')"
   ]
  },
  {
   "cell_type": "code",
   "execution_count": 247,
   "metadata": {},
   "outputs": [],
   "source": [
    "municipios = excel.iloc[:, 0:3]\n",
    "municipios = municipios.drop(municipios.columns[1], axis=1)\n",
    "municipios.columns = municipios.iloc[0]\n",
    "municipios = municipios.drop([4])\n",
    "municipios.index = municipios.iloc[:, 0]\n",
    "municipios = municipios.drop(municipios.columns[0], axis=1)\n",
    "municipio_max = pd.DataFrame({'Cidade': [municipios[1:].idxmax()['Total']], 'População': [municipios[1:].max()['Total']]}, index=['Max'])\n",
    "\n",
    "municipio_max.to_excel('MunicipioMax.xlsx')\n",
    "municipio_max.to_json('MunicipioMax.json')"
   ]
  }
 ],
 "metadata": {
  "kernelspec": {
   "display_name": "Python 3",
   "language": "python",
   "name": "python3"
  },
  "language_info": {
   "codemirror_mode": {
    "name": "ipython",
    "version": 3
   },
   "file_extension": ".py",
   "mimetype": "text/x-python",
   "name": "python",
   "nbconvert_exporter": "python",
   "pygments_lexer": "ipython3",
   "version": "3.12.3"
  }
 },
 "nbformat": 4,
 "nbformat_minor": 2
}
