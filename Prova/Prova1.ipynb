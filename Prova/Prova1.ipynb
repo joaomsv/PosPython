{
 "cells": [
  {
   "cell_type": "markdown",
   "metadata": {},
   "source": [
    "Com base no censo demografico de 2022 (https://www.ibge.gov.br/estatisticas/sociais/populacao/22827-censo-demografico-2022.html?edicao=38166&t=resultadosLinks to an external site.), baixe o arquivo  População por idade e sexo referente a seu estado de nascimento e faça:\n",
    "\n",
    "a) Faça um programa em python que identifique qual a faixa etaria possui mais pessoas entre homens e mulheres.\n",
    "\n",
    "b) Faça um programa python que com base na sua faixa etária e sexo identifique o municipio com mais pessoas.\n",
    "\n",
    "c) Faça um programa python que com base na sua faixa etária e sexo identifique o municipio com menos pessoas.\n",
    "\n",
    "ex: nelson_junior.xlxs, nelson_junior.json\n",
    "\n",
    "ob. Os arquivos de SP, RJ e MG estão em arquivos, e postar o codigo fonte."
   ]
  },
  {
   "cell_type": "code",
   "execution_count": null,
   "metadata": {},
   "outputs": [],
   "source": []
  }
 ],
 "metadata": {
  "language_info": {
   "name": "python"
  }
 },
 "nbformat": 4,
 "nbformat_minor": 2
}
