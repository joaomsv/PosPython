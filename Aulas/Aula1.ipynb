{
 "cells": [
  {
   "cell_type": "code",
   "execution_count": null,
   "metadata": {},
   "outputs": [],
   "source": [
    "txt = 'Hello World!'\n",
    "\n",
    "print(txt)"
   ]
  },
  {
   "cell_type": "code",
   "execution_count": null,
   "metadata": {},
   "outputs": [],
   "source": [
    "num = float(input('Informe um numero:'))\n",
    "\n",
    "print(f'O numero informado foi {num}')"
   ]
  },
  {
   "cell_type": "code",
   "execution_count": null,
   "metadata": {},
   "outputs": [],
   "source": [
    "item1 = input('Informa um item:')\n",
    "qnt1 = input('Informa a quantidade do item anterior:')\n",
    "item2 = input('Informa um item:')\n",
    "qnt2 = input('Informa a quantidade do item anterior:')\n",
    "item3 = input('Informa um item:')\n",
    "qnt3 = input('Informa a quantidade do item anterior:')\n",
    "item4 = input('Informa um item:')\n",
    "qnt4 = input('Informa a quantidade do item anterior:')\n",
    "item5 = input('Informa um item:')\n",
    "qnt5 = input('Informa a quantidade do item anterior:')\n",
    "\n",
    "print(f'item {item1} - Quantidade: {qnt1}')\n",
    "print(f'item {item2} - Quantidade: {qnt2}')\n",
    "print(f'item {item3} - Quantidade: {qnt3}')\n",
    "print(f'item {item4} - Quantidade: {qnt4}')\n",
    "print(f'item {item5} - Quantidade: {qnt5}')"
   ]
  },
  {
   "cell_type": "code",
   "execution_count": 11,
   "metadata": {},
   "outputs": [
    {
     "name": "stdout",
     "output_type": "stream",
     "text": [
      "A fruta a custa 1.0\n",
      "A fruta b custa 2.0\n",
      "A fruta c custa 0.5\n",
      "A fruta d custa 1.5\n",
      "A fruta e custa 0.75\n"
     ]
    }
   ],
   "source": [
    "a = 1.00\n",
    "b = 2 * a\n",
    "c = a / 2\n",
    "d = 3 * c\n",
    "e = d / 2\n",
    "\n",
    "print(f'A fruta a custa {a}')\n",
    "print(f'A fruta b custa {b}')\n",
    "print(f'A fruta c custa {c}')\n",
    "print(f'A fruta d custa {d}')\n",
    "print(f'A fruta e custa {e}')"
   ]
  },
  {
   "cell_type": "code",
   "execution_count": 18,
   "metadata": {},
   "outputs": [
    {
     "name": "stdout",
     "output_type": "stream",
     "text": [
      "{'Nome': 'Joao', 'Ultimo Nome': 'Vieira', 'Idade': '31', 'Curso': 'Engenharia de Dados', 'Endereco': 'BH'}\n",
      "Joao\n",
      "Vieira\n",
      "31\n",
      "Engenharia de Dados\n",
      "BH\n",
      "{'Nome': 'Joao', 'Ultimo Nome': 'Lopes', 'Idade': '31', 'Endereco': 'BH'}\n",
      "BH\n",
      "{'Nome': 'Lucas', 'Ultimo Nome': 'Lopes', 'Idade': '20', 'Endereco': 'BH'}\n"
     ]
    }
   ],
   "source": [
    "dic = {'Nome': 'Joao', 'Ultimo Nome': 'Vieira', 'Idade': '31', 'Curso': 'Engenharia de Dados', 'Endereco': 'BH'}\n",
    "\n",
    "print(dic)\n",
    "print(dic['Nome'])\n",
    "print(dic['Ultimo Nome'])\n",
    "print(dic['Idade'])\n",
    "print(dic['Curso'])\n",
    "print(dic['Endereco'])\n",
    "dic.pop('Curso')\n",
    "dic['Ultimo Nome'] = 'Lopes'\n",
    "print(dic)\n",
    "print(dic['Endereco'])\n",
    "dic2 = dic\n",
    "dic2['Nome'] = 'Lucas'\n",
    "dic2['Idade'] = '20'\n",
    "print(dic2)"
   ]
  }
 ],
 "metadata": {
  "kernelspec": {
   "display_name": "Python 3",
   "language": "python",
   "name": "python3"
  },
  "language_info": {
   "codemirror_mode": {
    "name": "ipython",
    "version": 3
   },
   "file_extension": ".py",
   "mimetype": "text/x-python",
   "name": "python",
   "nbconvert_exporter": "python",
   "pygments_lexer": "ipython3",
   "version": "3.12.3"
  }
 },
 "nbformat": 4,
 "nbformat_minor": 2
}
