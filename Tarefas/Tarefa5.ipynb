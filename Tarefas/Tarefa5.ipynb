{
 "cells": [
  {
   "cell_type": "markdown",
   "metadata": {},
   "source": [
    "Fazer um programa python que armazene as notas de uma turma de alunos.\n",
    "\n",
    "a) O programa deve pedir a quantidade de alunos para lancar as notas  finais, notas 0 a 10.\n",
    "\n",
    "b) O programa deve  gravar dois arquivos, um para aprovados com notas maior ou igual a 60% e outro arquivo para reprovados notas menor do que 60%.\n",
    "\n",
    "c) O arquivo deve conter o nome do aluno e o arquivo deverá ser o nome da disiplina fornecida pelo usuário."
   ]
  },
  {
   "cell_type": "code",
   "execution_count": 18,
   "metadata": {},
   "outputs": [],
   "source": [
    "qnt = int(input('Informa quantidade de alunos: (0 a 10)'))\n",
    "\n",
    "for _ in range(qnt):\n",
    "    disciplina = input('Nome da disciplina:')\n",
    "    nome = input('Nome do aluno:')\n",
    "    nota = float(input('Informe a nota:'))\n",
    "    with open(f'{disciplina}_{'approvados' if nota >= 60 else 'reprovados'}.csv', 'a') as txt:\n",
    "        txt.write(f'{nome};{nota}\\n')\n"
   ]
  }
 ],
 "metadata": {
  "kernelspec": {
   "display_name": "Python 3",
   "language": "python",
   "name": "python3"
  },
  "language_info": {
   "codemirror_mode": {
    "name": "ipython",
    "version": 3
   },
   "file_extension": ".py",
   "mimetype": "text/x-python",
   "name": "python",
   "nbconvert_exporter": "python",
   "pygments_lexer": "ipython3",
   "version": "3.12.3"
  }
 },
 "nbformat": 4,
 "nbformat_minor": 2
}
