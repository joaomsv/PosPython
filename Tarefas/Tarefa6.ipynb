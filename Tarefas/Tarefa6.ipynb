{
 "cells": [
  {
   "cell_type": "markdown",
   "metadata": {},
   "source": [
    "Fazer um programa python que armazene as notas de uma turma de alunos.\n",
    "\n",
    "a) O programa deve pedir a quantidade de alunos para lancar as 3 notas  do aluno. Av1, Av2 e Av3, as notas deverão ser entre  0 a 10.\n",
    "\n",
    "b) O programa deve  gravar um arquivo com os nomes dos alunos e suas 3 notas .\n",
    "\n",
    "c) Fazer uma rotina para ler o arquivo gravado com as 3 notas dos alunos e calcular a sua media. Com bae na media calculada gerar dois aquivos, aprovados(media >=60%) e reprovados(media < 60%) "
   ]
  },
  {
   "cell_type": "code",
   "execution_count": null,
   "metadata": {},
   "outputs": [],
   "source": []
  }
 ],
 "metadata": {
  "language_info": {
   "name": "python"
  }
 },
 "nbformat": 4,
 "nbformat_minor": 2
}
