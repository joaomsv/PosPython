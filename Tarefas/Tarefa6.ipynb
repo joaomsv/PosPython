{
 "cells": [
  {
   "cell_type": "markdown",
   "metadata": {},
   "source": [
    "Fazer um programa python que armazene as notas de uma turma de alunos.\n",
    "\n",
    "a) O programa deve pedir a quantidade de alunos para lancar as 3 notas  do aluno. Av1, Av2 e Av3, as notas deverão ser entre  0 a 10.\n",
    "\n",
    "b) O programa deve  gravar um arquivo com os nomes dos alunos e suas 3 notas .\n",
    "\n",
    "c) Fazer uma rotina para ler o arquivo gravado com as 3 notas dos alunos e calcular a sua media. Com bae na media calculada gerar dois aquivos, aprovados(media >=60%) e reprovados(media < 60%) "
   ]
  },
  {
   "cell_type": "code",
   "execution_count": 1,
   "metadata": {},
   "outputs": [],
   "source": [
    "qnt = int(input('Informe o numero de alunos:'))\n",
    "\n",
    "for _ in range(qnt):\n",
    "    nome = input('Informe o nome do aluno:')\n",
    "    aluno = [nome]\n",
    "    for i in range(3):\n",
    "        while True:\n",
    "            nota = float(input(f'Informa a nota para AV{i + 1}:'))\n",
    "            if nota >= 0 and nota <= 10:\n",
    "                break\n",
    "            else:\n",
    "                print('Nota deve ser entre 0 a 10!!!')\n",
    "        aluno.append(str(nota))\n",
    "    with open('alunos.csv', 'a') as csv:\n",
    "        csv.write(f\"{','.join(aluno)}\\n\")\n",
    "\n",
    "with open('alunos.csv', 'r') as csv:\n",
    "    lines = csv.readlines()\n",
    "    for line in lines:\n",
    "        line = line.split(',')\n",
    "        nome = line.pop(0)\n",
    "        notas = list(map(float, line))\n",
    "        avg = sum(notas) / len(notas)\n",
    "        with open(f'{\"ap\" if avg >= 6 else \"re\"}provados.csv', 'a') as result:\n",
    "            result.write(f'{nome},{avg}\\n')\n"
   ]
  }
 ],
 "metadata": {
  "kernelspec": {
   "display_name": "Python 3",
   "language": "python",
   "name": "python3"
  },
  "language_info": {
   "codemirror_mode": {
    "name": "ipython",
    "version": 3
   },
   "file_extension": ".py",
   "mimetype": "text/x-python",
   "name": "python",
   "nbconvert_exporter": "python",
   "pygments_lexer": "ipython3",
   "version": "3.12.3"
  }
 },
 "nbformat": 4,
 "nbformat_minor": 2
}
