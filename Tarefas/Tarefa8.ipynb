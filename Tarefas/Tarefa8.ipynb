{
 "cells": [
  {
   "cell_type": "markdown",
   "metadata": {},
   "source": [
    "Com base no arquivo dos campeões de formula 1 faça:\n",
    "\n",
    "a) Incluir todos os registros em um base de dados.\n",
    "\n",
    "b) Gerar um arquivo .xlsx com pandas com Nome do Piloto, equipe, Ano do titulo.formula1-1.txt"
   ]
  },
  {
   "cell_type": "code",
   "execution_count": null,
   "metadata": {},
   "outputs": [],
   "source": [
    "import mysql.connector\n",
    "import pandas as pd\n",
    "\n",
    "host='localhost'\n",
    "user='root'\n",
    "password='password'\n",
    "db = 'f1'\n",
    "table = 'champ'\n",
    "ddl = 'ano_do_titulo int, pais varchar(50), nome_do_piloto varchar(100), equipe varchar(100)'\n",
    "sql = f'insert into {table} (ano_do_titulo, pais, nome_do_piloto, equipe) values (%s, %s, %s, %s)'"
   ]
  },
  {
   "cell_type": "code",
   "execution_count": null,
   "metadata": {},
   "outputs": [],
   "source": [
    "mydb = mysql.connector.connect(\n",
    "    host=host,\n",
    "    user=user,\n",
    "    password=password\n",
    ")\n",
    "\n",
    "mycursor = mydb.cursor()\n",
    "\n",
    "mycursor.execute(f'create database {db}')"
   ]
  },
  {
   "cell_type": "code",
   "execution_count": null,
   "metadata": {},
   "outputs": [],
   "source": [
    "mydb = mysql.connector.connect(\n",
    "    host=host,\n",
    "    user=user,\n",
    "    password=password,\n",
    "    database=db\n",
    ")\n",
    "\n",
    "mycursor = mydb.cursor()"
   ]
  },
  {
   "cell_type": "code",
   "execution_count": null,
   "metadata": {},
   "outputs": [],
   "source": [
    "mycursor.execute(f'drop database {db}')"
   ]
  },
  {
   "cell_type": "code",
   "execution_count": null,
   "metadata": {},
   "outputs": [],
   "source": [
    "mycursor.execute(f'create table {table} ({ddl})')"
   ]
  },
  {
   "cell_type": "code",
   "execution_count": null,
   "metadata": {},
   "outputs": [],
   "source": [
    "mycursor.execute(f'drop table {table}')"
   ]
  },
  {
   "cell_type": "code",
   "execution_count": null,
   "metadata": {},
   "outputs": [],
   "source": [
    "mycursor.execute('show tables')\n",
    "\n",
    "for tables in mycursor:\n",
    "    print(tables)"
   ]
  },
  {
   "cell_type": "code",
   "execution_count": null,
   "metadata": {},
   "outputs": [],
   "source": [
    "mycursor.execute(f'select * from {table}')\n",
    "\n",
    "print(mycursor.fetchall())"
   ]
  },
  {
   "cell_type": "code",
   "execution_count": null,
   "metadata": {},
   "outputs": [],
   "source": [
    "mycursor.close()"
   ]
  },
  {
   "cell_type": "code",
   "execution_count": null,
   "metadata": {},
   "outputs": [],
   "source": [
    "with open('..\\\\Arquivos\\\\formula1-1.txt', encoding='UTF-8') as txt:\n",
    "    readlines = txt.readlines()\n",
    "    for line in readlines:\n",
    "        line = line.split(';')\n",
    "        line = tuple(map(lambda x: x.strip(), line))\n",
    "        mycursor.execute(sql, line)\n",
    "        mydb.commit()\n"
   ]
  },
  {
   "cell_type": "code",
   "execution_count": null,
   "metadata": {},
   "outputs": [],
   "source": [
    "mycursor.execute(f'select * from {table}')\n",
    "\n",
    "xlsx = pd.DataFrame(mycursor.fetchall(), columns=['ano_do_titulo', 'pais', 'nome_do_piloto', 'equipe'])\n",
    "\n",
    "print(xlsx)\n",
    "\n",
    "xlsx[['nome_do_piloto', 'equipe', 'ano_do_titulo']].to_excel('campeao.xlsx', index=0)"
   ]
  }
 ],
 "metadata": {
  "kernelspec": {
   "display_name": "Python 3",
   "language": "python",
   "name": "python3"
  },
  "language_info": {
   "codemirror_mode": {
    "name": "ipython",
    "version": 3
   },
   "file_extension": ".py",
   "mimetype": "text/x-python",
   "name": "python",
   "nbconvert_exporter": "python",
   "pygments_lexer": "ipython3",
   "version": "3.12.3"
  }
 },
 "nbformat": 4,
 "nbformat_minor": 2
}
