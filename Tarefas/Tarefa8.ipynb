{
 "cells": [
  {
   "cell_type": "markdown",
   "metadata": {},
   "source": [
    "Com base no arquivo dos campeões de formula 1 faça:\n",
    "\n",
    "a) Incluir todos os registros em um base de dados.\n",
    "\n",
    "b) Gerar um arquivo .xlsx com pandas com Nome do Piloto, equipe, Ano do titulo.formula1-1.txt"
   ]
  },
  {
   "cell_type": "code",
   "execution_count": null,
   "metadata": {},
   "outputs": [],
   "source": []
  }
 ],
 "metadata": {
  "language_info": {
   "name": "python"
  }
 },
 "nbformat": 4,
 "nbformat_minor": 2
}
