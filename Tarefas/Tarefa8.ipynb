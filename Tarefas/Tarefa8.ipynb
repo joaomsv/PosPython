{
 "cells": [
  {
   "cell_type": "markdown",
   "metadata": {},
   "source": [
    "Com base no arquivo dos campeões de formula 1 faça:\n",
    "\n",
    "a) Incluir todos os registros em um base de dados.\n",
    "\n",
    "b) Gerar um arquivo .xlsx com pandas com Nome do Piloto, equipe, Ano do titulo.formula1-1.txt"
   ]
  },
  {
   "cell_type": "code",
   "execution_count": 71,
   "metadata": {},
   "outputs": [],
   "source": [
    "import mysql.connector\n",
    "import pandas as pd\n",
    "\n",
    "db = 'f1'\n",
    "table = 'champ'\n",
    "ddl = 'ano_do_titulo int, pais varchar(50), nome_do_piloto varchar(100), equipe varchar(100)'\n",
    "sql = f'insert into {table} (ano_do_titulo, pais, nome_do_piloto, equipe) values (%s, %s, %s, %s)'\n",
    "\n",
    "def sqlConnect(host, user, password, db = ''):\n",
    "    return mysql.connector.connect(\n",
    "    host=host,\n",
    "    user=user,\n",
    "    password=password,\n",
    "    database=db\n",
    ")\n",
    "\n",
    "mydb = sqlConnect('localhost', 'root', 'password')\n",
    "mycursor = mydb.cursor()\n",
    "\n",
    "mycursor.execute(f'show databases like \"{db}\"')\n",
    "if len(mycursor.fetchall()):\n",
    "    mycursor.execute(f'drop database {db}')\n",
    "mycursor.execute(f'create database {db}')\n",
    "\n",
    "mydb = sqlConnect('localhost', 'root', 'password', db)\n",
    "mycursor = mydb.cursor()\n",
    "\n",
    "mycursor.execute(f'show tables like \"{table}\"')\n",
    "if len(mycursor.fetchall()):\n",
    "    mycursor.execute(f'drop database {table}')\n",
    "mycursor.execute(f'create table {table} ({ddl})')\n",
    "\n",
    "with open('formula1-1.txt', encoding='UTF-8') as txt:\n",
    "    readlines = txt.readlines()\n",
    "    for line in readlines:\n",
    "        line = line.split(';')\n",
    "        line = tuple(map(lambda x: x.strip(), line))\n",
    "        mycursor.execute(sql, line)\n",
    "        mydb.commit()\n",
    "\n",
    "mycursor.execute(f'select * from {table}')\n",
    "xlsx = pd.DataFrame(mycursor.fetchall(), columns=['ano_do_titulo', 'pais', 'nome_do_piloto', 'equipe'])\n",
    "xlsx[['nome_do_piloto', 'equipe', 'ano_do_titulo']].to_excel('campeao.xlsx', index=0)\n",
    "\n",
    "mydb.close()"
   ]
  }
 ],
 "metadata": {
  "kernelspec": {
   "display_name": "Python 3",
   "language": "python",
   "name": "python3"
  },
  "language_info": {
   "codemirror_mode": {
    "name": "ipython",
    "version": 3
   },
   "file_extension": ".py",
   "mimetype": "text/x-python",
   "name": "python",
   "nbconvert_exporter": "python",
   "pygments_lexer": "ipython3",
   "version": "3.12.3"
  }
 },
 "nbformat": 4,
 "nbformat_minor": 2
}
