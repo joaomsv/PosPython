{
 "cells": [
  {
   "cell_type": "markdown",
   "metadata": {},
   "source": [
    "* Criar um programa em python que simule uma urna eletrônica com candidatos preenchidos pela comunição organizadora da eleição, a urna deverá ter votos brancos e nullos.\n",
    "\n",
    "O eleitor poderá escolher seu candidato por nome e também poderar votar branco o nullo.\n",
    "\n",
    "A eleição se encerra quando for digitado a palavra fim e no final deverá mostrar os votos computados para cada candidato.\n",
    "\n",
    "O programa deverá mostra o candidato com mais votado.\n",
    "\n",
    "\n",
    "obs. Usar a estrutura do dicionário."
   ]
  }
 ],
 "metadata": {
  "language_info": {
   "name": "python"
  }
 },
 "nbformat": 4,
 "nbformat_minor": 2
}
