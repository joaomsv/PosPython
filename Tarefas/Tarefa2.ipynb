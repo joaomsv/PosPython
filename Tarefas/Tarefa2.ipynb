{
 "cells": [
  {
   "cell_type": "markdown",
   "metadata": {},
   "source": [
    "Criar um programa em python que simule uma urna eletrônica com candidatos preenchidos pela comunição organizadora da eleição, a urna deverá ter votos brancos e nullos.\n",
    "\n",
    "O eleitor poderá escolher seu candidato por nome e também poderar votar branco o nullo.\n",
    "\n",
    "A eleição se encerra quando for digitado a palavra fim e no final deverá mostrar os votos computados para cada candidato.\n",
    "\n",
    "O programa deverá mostra o candidato com mais votado.\n",
    "\n",
    "\n",
    "obs. Usar a estrutura do dicionário."
   ]
  },
  {
   "cell_type": "code",
   "execution_count": null,
   "metadata": {},
   "outputs": [],
   "source": [
    "votos = {'nulo': 0, 'branco': 0}\n",
    "voto = ''\n",
    "\n",
    "while True:\n",
    "    voto = input('Digita o nome do candidato que deseja vota: (Encerra digitando fim)').lower()\n",
    "    if voto.lower() == 'fim':\n",
    "        break\n",
    "    elif votos.get(voto) != None:\n",
    "        votos[voto] = votos.get(voto) + 1\n",
    "    else:\n",
    "        votos[voto] = 1\n",
    "\n",
    "print('Restultado Final'.center(100, '='))\n",
    "\n",
    "for key, value in votos.items():\n",
    "    print(f'{key} - {value} - {value / sum(votos.values()) if sum(votos.values()) != 0 else 0:.2%}'.center(100, ' '))\n",
    "\n",
    "winner = dict(filter(lambda x: x[1] >= max(votos.values()), votos.items()))\n",
    "\n",
    "if not sum(winner.values()):\n",
    "    print('Nenhum voto recebido!!! Eleição anulado!!!'.center(100, '='))\n",
    "    winner.clear()\n",
    "elif 'nulo' in winner.keys():\n",
    "    print('Eleição anulada!!!'.center(100, '='))\n",
    "    print(f'nulo - {winner['nulo']} - {winner['nulo'] / sum(votos.values()):.2%}'.center(100, ' '))\n",
    "    winner.clear()\n",
    "elif 'branco' in winner.keys():\n",
    "    print('Eleição anulada!!!'.center(100, '='))\n",
    "    print(f'nulo - {winner['branco']} - {winner['branco'] / sum(votos.values()):.2%}'.center(100, ' '))\n",
    "    winner.clear()\n",
    "else:\n",
    "    print(f'{'O Ganhador!!!!' if len(winner) == 1 else 'Empate!!!!'}'.center(100, '='))\n",
    "\n",
    "for key, value in winner.items():\n",
    "    print(f'{key} - {value} - {value / sum(votos.values()):.2%}'.center(100, ' '))\n"
   ]
  }
 ],
 "metadata": {
  "kernelspec": {
   "display_name": "Python 3",
   "language": "python",
   "name": "python3"
  },
  "language_info": {
   "codemirror_mode": {
    "name": "ipython",
    "version": 3
   },
   "file_extension": ".py",
   "mimetype": "text/x-python",
   "name": "python",
   "nbconvert_exporter": "python",
   "pygments_lexer": "ipython3",
   "version": "3.12.3"
  }
 },
 "nbformat": 4,
 "nbformat_minor": 2
}
