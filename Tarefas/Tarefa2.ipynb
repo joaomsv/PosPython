{
 "cells": [
  {
   "cell_type": "markdown",
   "metadata": {},
   "source": [
    "Criar um programa em python que simule uma urna eletrônica com candidatos preenchidos pela comunição organizadora da eleição, a urna deverá ter votos brancos e nullos.\n",
    "\n",
    "O eleitor poderá escolher seu candidato por nome e também poderar votar branco o nullo.\n",
    "\n",
    "A eleição se encerra quando for digitado a palavra fim e no final deverá mostrar os votos computados para cada candidato.\n",
    "\n",
    "O programa deverá mostra o candidato com mais votado.\n",
    "\n",
    "\n",
    "obs. Usar a estrutura do dicionário."
   ]
  },
  {
   "cell_type": "code",
   "execution_count": null,
   "metadata": {},
   "outputs": [],
   "source": [
    "votos = {'nulo': 0, 'branco': 0, 'lucas': 0, 'dani': 0, 'pedro': 0, 'duda': 0}\n",
    "\n",
    "intro = f'''Digita o nome do candidato que deseja votar.\n",
    "            Opções:\n",
    "            {', '.join(votos.keys())}\n",
    "            (Digita fim para encerrar)\n",
    "        '''\n",
    "\n",
    "# Votação\n",
    "while True:\n",
    "    voto = input(intro).lower()\n",
    "    if voto.lower() == 'fim':\n",
    "        break\n",
    "    elif voto in votos.keys():\n",
    "        votos[voto] = votos[voto] + 1\n",
    "        print('Voto Registrado.')\n",
    "    else:\n",
    "        print(f'Opção {voto} não existe!!! Voto Invalido!!!')\n",
    "\n",
    "# Resultado inicio\n",
    "print('Restultado'.center(100, '='))\n",
    "# Total de votos\n",
    "print(f'Total de votos: {sum(votos.values())}'.center(100, '='))\n",
    "\n",
    "# Imprime todos os votos\n",
    "for key, value in votos.items():\n",
    "    print(f'{key} - {value / sum(votos.values()) if sum(votos.values()) != 0 else 0:.2%}'.center(100, ' '))\n",
    "\n",
    "# Filtra os ganhadores\n",
    "winner = dict(filter(lambda x: x[1] >= max(votos.values()), votos.items()))\n",
    "\n",
    "# Tratamento dos ganhadores\n",
    "# Se ninguem votou eleição anulado\n",
    "if not sum(winner.values()):\n",
    "    print('Nenhum voto recebido!!! Eleição anulado!!!'.center(100, '='))\n",
    "    winner.clear()\n",
    "# Se a opção nulo faz parte dos ganhadores, eleição é anulado\n",
    "elif 'nulo' in winner.keys():\n",
    "    print('Eleição anulada!!! Alto numero de voto nulo!!!'.center(100, '='))\n",
    "    print(f'nulo - {winner[\"nulo\"] / sum(votos.values()):.2%}'.center(100, ' '))\n",
    "    winner.clear()\n",
    "# Se a opção branco faz parte dos ganhadores, eleição é anulado\n",
    "elif 'branco' in winner.keys():\n",
    "    print('Eleição anulada!!! Alto numero de voto em branco!!!'.center(100, '='))\n",
    "    print(f'branco - {winner[\"branco\"] / sum(votos.values()):.2%}'.center(100, ' '))\n",
    "    winner.clear()\n",
    "# Decide se é empate ou não\n",
    "else:\n",
    "    print(f'{\"O Ganhador!!!!\" if len(winner) == 1 else \"Empate!!!!\"}'.center(100, '='))\n",
    "\n",
    "# Imprime os ganhadores\n",
    "for key, value in winner.items():\n",
    "    print(f'{key} - {value / sum(votos.values()):.2%}'.center(100, ' '))\n"
   ]
  }
 ],
 "metadata": {
  "kernelspec": {
   "display_name": "Python 3",
   "language": "python",
   "name": "python3"
  },
  "language_info": {
   "codemirror_mode": {
    "name": "ipython",
    "version": 3
   },
   "file_extension": ".py",
   "mimetype": "text/x-python",
   "name": "python",
   "nbconvert_exporter": "python",
   "pygments_lexer": "ipython3",
   "version": "3.8.6"
  }
 },
 "nbformat": 4,
 "nbformat_minor": 2
}
