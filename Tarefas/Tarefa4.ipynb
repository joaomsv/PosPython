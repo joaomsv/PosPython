{
 "cells": [
  {
   "cell_type": "markdown",
   "metadata": {},
   "source": [
    "1)Crie uma classe automóvel com os seguintes atributos:\n",
    "\n",
    "a)Tipo do automóvel; Cor; Marca; Modelo; Ano de fabricação; Numero de portas; Chassi; Placa.\n",
    "\n",
    "b)Crie cinco instâncias diferentes da classe criada, digitada pela usuário."
   ]
  },
  {
   "cell_type": "code",
   "execution_count": null,
   "metadata": {},
   "outputs": [],
   "source": [
    "class automovel:\n",
    "    def __init__(self, tipo: str, cor: str, marca: str, modelo: str, ano_fab: int, chassi: str, placa: str, num_portas = int):\n",
    "        self.tipo = tipo\n",
    "        self.cor = cor\n",
    "        self.marca = marca\n",
    "        self.modelo = modelo\n",
    "        self.ano_fab = ano_fab\n",
    "        self.chassi = chassi\n",
    "        self.placa = placa\n",
    "        self.num_portas = num_portas\n",
    "        self.ligado = False\n",
    "        self.vel = 0\n",
    "        self.aberto = True\n",
    "\n",
    "    def Print_carro(self):\n",
    "        print(f'Tipo: {self.tipo}')\n",
    "        print(f'Cor: {self.cor}')\n",
    "        print(f'Marca: {self.marca}')\n",
    "        print(f'Modelo: {self.modelo}')\n",
    "        print(f'Ano de Fabricação: {self.ano_fab}')\n",
    "        print(f'Chassi: {self.chassi}')\n",
    "        print(f'Placa: {self.placa}')\n",
    "        print(f'Numero de Portas: {self.num_portas}')\n",
    "\n",
    "    def Ligar(self):\n",
    "        if self.ligado:\n",
    "            print('O carro ja esta ligado!!!'.center(100, '='))\n",
    "        else:\n",
    "            print(f'Ligando o carro...'.center(100, \"=\"))\n",
    "            self.ligado = True\n",
    "\n",
    "    def Desligar(self):\n",
    "        if not self.ligado:\n",
    "            print('O carro ja esta desligado!!!'.center(100, '='))\n",
    "        else:\n",
    "            print(f'Desligando o carro...'.center(100, \"=\"))\n",
    "            self.ligado = False\n",
    "\n",
    "    def Frear(self, valor):\n",
    "        print('Freando...'.center(100, '='))\n",
    "        if self.vel - valor <= 0:\n",
    "            self.vel = 0\n",
    "        else:\n",
    "            self.vel -= valor\n",
    "\n",
    "    def Acelerar(self, valor):\n",
    "        print('Acelerando...'.center(100, '='))\n",
    "        self.vel += valor\n",
    "\n",
    "    def Travar(self):\n",
    "        print('Travando...'.center(100, '='))\n",
    "        self.abeto = False\n",
    "\n",
    "    def Imprimir(self, att: str):\n",
    "        pass\n"
   ]
  },
  {
   "cell_type": "code",
   "execution_count": null,
   "metadata": {},
   "outputs": [],
   "source": [
    "carro = automovel('sedan', 'preto', 'honda', 'civic', 1234, 'ssdfs5451', 'asd1234', 5)\n",
    "\n",
    "carro.Print_carro()\n"
   ]
  },
  {
   "cell_type": "markdown",
   "metadata": {},
   "source": [
    "2)Crie os seguintes métodos para a classe criada.\n",
    "\n",
    "a)Liga, Desligar, frear; acelerar; travar portas\n",
    "\n",
    "b)Insira uma mensagem dentro de cada metodo quando o mesmo for invocado.\n",
    "\n",
    "c)Crie um método Imprimir recebendo por parametro Automóvel e imprimindo seus atributos."
   ]
  }
 ],
 "metadata": {
  "kernelspec": {
   "display_name": "Python 3",
   "language": "python",
   "name": "python3"
  },
  "language_info": {
   "codemirror_mode": {
    "name": "ipython",
    "version": 3
   },
   "file_extension": ".py",
   "mimetype": "text/x-python",
   "name": "python",
   "nbconvert_exporter": "python",
   "pygments_lexer": "ipython3",
   "version": "3.8.6"
  }
 },
 "nbformat": 4,
 "nbformat_minor": 2
}
