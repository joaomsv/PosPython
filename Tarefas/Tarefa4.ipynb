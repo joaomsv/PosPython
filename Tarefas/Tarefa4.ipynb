{
 "cells": [
  {
   "cell_type": "markdown",
   "metadata": {},
   "source": [
    "1)Crie uma classe automóvel com os seguintes atributos:\n",
    "a)Tipo do automóvel; Cor; Marca; Modelo; Ano de fabricação; Numero de portas; Chassi; Placa.\n",
    "b)Crie cinco instâncias diferentes da classe criada, digitada pela usuário."
   ]
  },
  {
   "cell_type": "code",
   "execution_count": 11,
   "metadata": {},
   "outputs": [],
   "source": [
    "class automovel:\n",
    "    def __init__(self, tipo: str, cor: str, marca: str, modelo: str, ano_fab: int, chassi: str, placa: str, num_portas = 2 | 4):\n",
    "        self.tipo = tipo\n",
    "        self.cor = cor\n",
    "        self.marca = marca\n",
    "        self.modelo = modelo\n",
    "        self.ano_fab = ano_fab\n",
    "        self.chassi = chassi\n",
    "        self.placa = placa\n",
    "        self.num_portas = num_portas\n",
    "\n"
   ]
  },
  {
   "cell_type": "code",
   "execution_count": 14,
   "metadata": {},
   "outputs": [
    {
     "name": "stdout",
     "output_type": "stream",
     "text": [
      "5\n"
     ]
    }
   ],
   "source": [
    "carro = automovel('a', 'b', 'c', 'd', 1234, 's', 'asd', 5)\n",
    "\n",
    "print(carro.num_portas)\n"
   ]
  },
  {
   "cell_type": "markdown",
   "metadata": {},
   "source": [
    "2)Crie os seguintes métodos para a classe criada.\n",
    "a)Liga, Desligar, frear; acelerar; travar portas\n",
    "b)Insira uma mensagem dentro de cada metodo quando o mesmo for invocado.\n",
    "c)Crie um método Imprimir recebendo por parametro Automóvel e imprimindo seus atributos."
   ]
  }
 ],
 "metadata": {
  "kernelspec": {
   "display_name": "Python 3",
   "language": "python",
   "name": "python3"
  },
  "language_info": {
   "codemirror_mode": {
    "name": "ipython",
    "version": 3
   },
   "file_extension": ".py",
   "mimetype": "text/x-python",
   "name": "python",
   "nbconvert_exporter": "python",
   "pygments_lexer": "ipython3",
   "version": "3.12.3"
  }
 },
 "nbformat": 4,
 "nbformat_minor": 2
}
