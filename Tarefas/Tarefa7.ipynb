{
 "cells": [
  {
   "cell_type": "markdown",
   "metadata": {},
   "source": [
    "Com base no arquivo Jogos.xlsx, fazer um programa em Python utilizando as funções da biblioteca Pandas que faça:\n",
    "\n",
    "a) Relação do jogos que seu time de coração venceu como visitante\n",
    "\n",
    "b) Relação do jogos que seu time de coração venceu como mandante\n",
    "\n",
    "c) Relação dos 5 times que mais perdeu"
   ]
  },
  {
   "cell_type": "code",
   "execution_count": null,
   "metadata": {},
   "outputs": [],
   "source": []
  }
 ],
 "metadata": {
  "language_info": {
   "name": "python"
  }
 },
 "nbformat": 4,
 "nbformat_minor": 2
}
