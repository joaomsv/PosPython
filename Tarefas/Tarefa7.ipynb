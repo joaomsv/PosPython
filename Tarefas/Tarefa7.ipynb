{
 "cells": [
  {
   "cell_type": "markdown",
   "metadata": {},
   "source": [
    "Com base no arquivo Jogos.xlsx, fazer um programa em Python utilizando as funções da biblioteca Pandas que faça:\n",
    "\n",
    "a) Relação do jogos que seu time de coração venceu como visitante\n",
    "\n",
    "b) Relação do jogos que seu time de coração venceu como mandante\n",
    "\n",
    "c) Relação dos 5 times que mais perdeu"
   ]
  },
  {
   "cell_type": "code",
   "execution_count": null,
   "metadata": {},
   "outputs": [],
   "source": [
    "import pandas as pd"
   ]
  },
  {
   "cell_type": "code",
   "execution_count": null,
   "metadata": {},
   "outputs": [],
   "source": [
    "jogos = pd.read_excel('..\\\\Arquivos\\\\Jogos.xlsx', index_col=0)\n",
    "print(jogos)"
   ]
  }
 ],
 "metadata": {
  "kernelspec": {
   "display_name": "Python 3",
   "language": "python",
   "name": "python3"
  },
  "language_info": {
   "codemirror_mode": {
    "name": "ipython",
    "version": 3
   },
   "file_extension": ".py",
   "mimetype": "text/x-python",
   "name": "python",
   "nbconvert_exporter": "python",
   "pygments_lexer": "ipython3",
   "version": "3.12.3"
  }
 },
 "nbformat": 4,
 "nbformat_minor": 2
}
