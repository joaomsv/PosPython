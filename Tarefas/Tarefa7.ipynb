{
 "cells": [
  {
   "cell_type": "markdown",
   "metadata": {},
   "source": [
    "Com base no arquivo Jogos.xlsx, fazer um programa em Python utilizando as funções da biblioteca Pandas que faça:\n",
    "\n",
    "a) Relação do jogos que seu time de coração venceu como visitante\n",
    "\n",
    "b) Relação do jogos que seu time de coração venceu como mandante\n",
    "\n",
    "c) Relação dos 5 times que mais perdeu"
   ]
  },
  {
   "cell_type": "code",
   "execution_count": 104,
   "metadata": {},
   "outputs": [],
   "source": [
    "import pandas as pd\n",
    "\n",
    "jogos = pd.read_excel('Jogos.xlsx', header=0)\n",
    "jogos = jogos[['Time Vencedor', 'Time Mandante', 'time Visitante']]\n",
    "\n",
    "visitante = jogos.loc[(jogos['Time Vencedor'] == 'Cruzeiro') & (jogos['time Visitante'] == 'Cruzeiro')]\n",
    "visitante.to_excel('cruzeiro_visitante.xlsx', index=0)\n",
    "\n",
    "mandante = jogos.loc[(jogos['Time Vencedor'] == 'Cruzeiro') & (jogos['Time Mandante'] == 'Cruzeiro')]\n",
    "mandante.to_excel('cruzeiro_mandante.xlsx', index=0)\n",
    "\n",
    "losers_v = jogos[jogos['Time Vencedor'] != jogos['time Visitante']]\n",
    "losers_v = losers_v.groupby('time Visitante')[['time Visitante']].size().reset_index(name='Vit').sort_values('Vit').rename(columns={'time Visitante': 'Time'})\n",
    "losers_m = jogos[jogos['Time Vencedor'] != jogos['Time Mandante']]\n",
    "losers_m = losers_m.groupby('Time Mandante')[['Time Mandante']].size().reset_index(name='Vit').sort_values('Vit').rename(columns={'Time Mandante': 'Time'})\n",
    "losers = pd.concat([losers_m, losers_v], ignore_index=True).groupby('Time').sum().sort_values('Vit')\n",
    "losers[:5].to_excel('perdedores.xlsx')\n"
   ]
  }
 ],
 "metadata": {
  "kernelspec": {
   "display_name": "Python 3",
   "language": "python",
   "name": "python3"
  },
  "language_info": {
   "codemirror_mode": {
    "name": "ipython",
    "version": 3
   },
   "file_extension": ".py",
   "mimetype": "text/x-python",
   "name": "python",
   "nbconvert_exporter": "python",
   "pygments_lexer": "ipython3",
   "version": "3.12.3"
  }
 },
 "nbformat": 4,
 "nbformat_minor": 2
}
