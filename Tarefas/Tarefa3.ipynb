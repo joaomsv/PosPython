{
 "cells": [
  {
   "cell_type": "markdown",
   "metadata": {},
   "source": [
    "Fazer um programa em python que armazene as temperaturas do ano, mês a mês.\n",
    "\n",
    "O programa deverá calcular a media das temperaturas informadas.\n",
    "\n",
    "O programa deverá mostrar quais meses ficaram acima da media da temperatura anual.\n",
    "\n",
    "Obs. Usar a estrutura do dicionário."
   ]
  },
  {
   "cell_type": "code",
   "execution_count": null,
   "metadata": {},
   "outputs": [],
   "source": [
    "meses = { 'Janeiro': 0, 'Fevereiro': 0, 'Março': 0, 'Abril': 0, 'Maio': 0, 'Junho': 0, 'Julho': 0, 'Agosto': 0, 'Setembro': 0, 'Outubro': 0, 'Novembro': 0, 'Dezembro': 0 }\n",
    "\n",
    "for mes in meses.keys():\n",
    "    meses[mes] = float(input(f'Digita a temperatura do mes {mes}:'))\n",
    "\n",
    "media = round(sum(meses.values()) / len(meses), 2)\n",
    "\n",
    "print(f'Os seguintes meses ficaram acima da media {media}\\N{DEGREE SIGN}C:')\n",
    "\n",
    "for mes, temp in meses.items():\n",
    "    if temp > media:\n",
    "        print(f'{mes} - {temp}\\N{DEGREE SIGN}C')\n"
   ]
  }
 ],
 "metadata": {
  "kernelspec": {
   "display_name": "Python 3",
   "language": "python",
   "name": "python3"
  },
  "language_info": {
   "codemirror_mode": {
    "name": "ipython",
    "version": 3
   },
   "file_extension": ".py",
   "mimetype": "text/x-python",
   "name": "python",
   "nbconvert_exporter": "python",
   "pygments_lexer": "ipython3",
   "version": "3.12.3"
  }
 },
 "nbformat": 4,
 "nbformat_minor": 2
}
